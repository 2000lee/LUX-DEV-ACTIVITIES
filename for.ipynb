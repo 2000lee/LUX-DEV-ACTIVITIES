{
 "cells": [
  {
   "cell_type": "code",
   "execution_count": null,
   "id": "8bc52198",
   "metadata": {},
   "outputs": [],
   "source": [
    "b = 0\n",
    "name = input()\n",
    "while x in name:\n",
    "    b +=1\n",
    " print(\"\")\n"
   ]
  }
 ],
 "metadata": {
  "language_info": {
   "name": "python"
  }
 },
 "nbformat": 4,
 "nbformat_minor": 5
}
