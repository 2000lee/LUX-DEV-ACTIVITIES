{
 "cells": [
  {
   "cell_type": "code",
   "execution_count": 4,
   "id": "d501f5da",
   "metadata": {},
   "outputs": [],
   "source": [
    "class BankAccount:\n",
    "    def  __init__(self,owner,balance =0):\n",
    "        self.owner =owner\n",
    "        self.balance =balance\n",
    "    def deposit(self,amount):\n",
    "        self.balance +=amount\n",
    "        print(f\"Deposited{amount}.New balance:{self.balance}\")\n",
    "    def withdraw (self,amount):\n",
    "        if amount > self.balance:\n",
    "            print(\"insufficient funds\")\n",
    "        else:\n",
    "            self.balance -= amount\n",
    "            print(f\"Withdrew{amount}.New balance{self.balance}\")"
   ]
  },
  {
   "cell_type": "code",
   "execution_count": 7,
   "id": "81e79b82",
   "metadata": {},
   "outputs": [
    {
     "name": "stdout",
     "output_type": "stream",
     "text": [
      "Deposited500.New balance:1500\n",
      "Withdrew1000.New balance500\n",
      "Withdrew100.New balance400\n"
     ]
    }
   ],
   "source": [
    "acc1 = BankAccount(\"yvon\",1000)\n",
    "acc1.deposit(500)\n",
    "acc1.withdraw(1000)\n",
    "acc1.withdraw(100)"
   ]
  },
  {
   "cell_type": "code",
   "execution_count": null,
   "id": "a3df6e28",
   "metadata": {},
   "outputs": [],
   "source": []
  },
  {
   "cell_type": "code",
   "execution_count": null,
   "id": "c692b9e3",
   "metadata": {},
   "outputs": [],
   "source": [
    "class Obesity:\n",
    "    def __init__(self,name,height):\n",
    "        self.name =name\n",
    "        self.height =height\n",
    "        print(f\"Patients patien is {name} and height: {height}\")\n",
    "        \n",
    "    def bmi(self,weight,bmi_number):\n",
    "        self.weight=weight\n",
    "        bmi_number = weight/(self.height**2)\n",
    "        print(f\"{self.name} bmi number is{bmi_number:.2f}\")\n",
    "        return bmi_number\n",
    "\n",
    "    def bmi_category(self,weight):\n",
    "        bmi = self.bmi(weight)\n",
    "        if bmi < 18.5:\n",
    "            category = \"Underweight\"\n",
    "        elif 18.5 <= bmi < 25:\n",
    "            category = \"Normal weight\"\n",
    "        elif 25 <= bmi < 30:\n",
    "            category = \"Overweight\"\n",
    "        elif 30 <= bmi < 35:\n",
    "            category = \"Obesity Class I\"\n",
    "        elif 35 <= bmi < 40:\n",
    "            category = \"Obesity Class II\"\n",
    "        else:\n",
    "            category = \"Obesity Class III\"\n",
    "        print(f\"BMI Category: {category}\")\n",
    "        return category"
   ]
  },
  {
   "cell_type": "code",
   "execution_count": 30,
   "id": "ef7d2c00",
   "metadata": {},
   "outputs": [
    {
     "name": "stdout",
     "output_type": "stream",
     "text": [
      "Patient's name is job and height is 1.77 meters.\n",
      "job's BMI is 22.98\n",
      "BMI Category: Normal weight\n"
     ]
    },
    {
     "data": {
      "text/plain": [
       "'Normal weight'"
      ]
     },
     "execution_count": 30,
     "metadata": {},
     "output_type": "execute_result"
    }
   ],
   "source": [
    "data =Obesity(\"job\", 1.77)\n",
    "data.bmi_category(72)"
   ]
  },
  {
   "cell_type": "markdown",
   "id": "adb076c5",
   "metadata": {},
   "source": [
    "INHERITANCE\n",
    "child class gets inheritance from the parent class\n",
    "straucture program in a hierachy\n"
   ]
  },
  {
   "cell_type": "code",
   "execution_count": null,
   "id": "0e21110d",
   "metadata": {},
   "outputs": [],
   "source": []
  },
  {
   "cell_type": "code",
   "execution_count": 42,
   "id": "2af88272",
   "metadata": {},
   "outputs": [],
   "source": [
    "# Parent Class\n",
    "class Animal:\n",
    "    def __init__(self, name):\n",
    "        self.name = name\n",
    "\n",
    "    def speak(self):\n",
    "        print(f\"{self.name} makes a sound\")\n",
    "\n",
    "# Child Class\n",
    "class Dog(Animal):\n",
    "    def speak(self):\n",
    "        print(f\"{self.name} says Woof!\")\n"
   ]
  },
  {
   "cell_type": "code",
   "execution_count": 45,
   "id": "71c91976",
   "metadata": {},
   "outputs": [
    {
     "name": "stdout",
     "output_type": "stream",
     "text": [
      "scooby makes a sound\n",
      "bossco says Woof!\n"
     ]
    }
   ],
   "source": [
    "mamal= Animal(\"scooby\")\n",
    "mamal.speak()\n",
    "\n",
    "mamal2= Dog(\"bossco\")\n",
    "mamal2.speak()"
   ]
  },
  {
   "cell_type": "code",
   "execution_count": 40,
   "id": "141bcba2",
   "metadata": {},
   "outputs": [],
   "source": [
    "class Animal:\n",
    "    def __init__(self,name,age):\n",
    "        self.name = name\n",
    "        self.age = age\n",
    "    def speak(self):\n",
    "        print(f\"{self.name} makes a sound\")\n",
    "        \n",
    "class Cat(Animal):\n",
    "    def __init__(self, name, colour):\n",
    "        super().__init__(name)\n",
    "        self.colour = colour\n",
    "    \n",
    "    def speak(self):\n",
    "        super().speak()\n",
    "        print(f\"{self.name} says Meow and is {self.colour} colored\")"
   ]
  },
  {
   "cell_type": "code",
   "execution_count": 41,
   "id": "be98ed37",
   "metadata": {},
   "outputs": [
    {
     "name": "stdout",
     "output_type": "stream",
     "text": [
      "scobby makes a sound\n"
     ]
    }
   ],
   "source": [
    "animal =Animal(\"scobby\" , 4)\n",
    "animal.speak()"
   ]
  },
  {
   "cell_type": "code",
   "execution_count": 64,
   "id": "7498de28",
   "metadata": {},
   "outputs": [],
   "source": [
    "class Books:\n",
    "    def __init__(self, name, price):\n",
    "        self.name = name  #input(name)\n",
    "        self.price =price\n",
    "    def amount(self):\n",
    "        print(f\"{self.name} is: {self.price}ksh\")\n",
    "        \n",
    "    "
   ]
  },
  {
   "cell_type": "code",
   "execution_count": 72,
   "id": "bd92bb8b",
   "metadata": {},
   "outputs": [],
   "source": [
    "class Animal:\n",
    "    def __init__(self, name, age):\n",
    "        self.name = name\n",
    "        self.age = age\n",
    "    def speak(self):\n",
    "        print(f\"{self.name} makes a sound\")"
   ]
  },
  {
   "cell_type": "code",
   "execution_count": null,
   "id": "96b1ae1b",
   "metadata": {},
   "outputs": [],
   "source": [
    "class Bird(Animal):\n",
    "    def __init__(self, name, age, weight, colour):\n",
    "        super().__init__(name, age)\n",
    "        self.weight =weight\n",
    "        self.colour =colour\n",
    "    def speak(self):\n",
    "        super().speak()\n",
    "        print(f\"{self.name} is busy chirping in the morining\")\n",
    "        print(f\"{self.name} weights is {self.weight}kg and is {self.colour} is the colour\")"
   ]
  },
  {
   "cell_type": "code",
   "execution_count": 87,
   "id": "0df626e8",
   "metadata": {},
   "outputs": [
    {
     "name": "stdout",
     "output_type": "stream",
     "text": [
      "hamza makes a sound\n",
      "hamza is busy chirping in the morining\n",
      "hamza weights is 1.5kg and is yellow is the colour\n"
     ]
    }
   ],
   "source": [
    "\n",
    "animal =Bird(\"hamza\" , 22 , 1.5 , \"yellow\" )\n",
    "animal.speak()"
   ]
  }
 ],
 "metadata": {
  "kernelspec": {
   "display_name": "Python 3",
   "language": "python",
   "name": "python3"
  },
  "language_info": {
   "codemirror_mode": {
    "name": "ipython",
    "version": 3
   },
   "file_extension": ".py",
   "mimetype": "text/x-python",
   "name": "python",
   "nbconvert_exporter": "python",
   "pygments_lexer": "ipython3",
   "version": "3.13.3"
  }
 },
 "nbformat": 4,
 "nbformat_minor": 5
}
