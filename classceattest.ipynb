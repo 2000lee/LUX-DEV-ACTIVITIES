{
 "cells": [
  {
   "cell_type": "code",
   "execution_count": 98,
   "id": "a5da8bbb",
   "metadata": {},
   "outputs": [],
   "source": [
    "class Car: \n",
    "   catalogue = []\n",
    "   def __init__(self):\n",
    "       print(\"the desc\")\n",
    "\n",
    "   def get_description(self, brand, model, year):\n",
    "       self.brand = brand\n",
    "       self.model = model\n",
    "       self.year = year\n",
    "       \n",
    "       print(f\"the car model: {self.brand}  the brand: {self.model} the year: {self.year}\")\n",
    "       \n",
    "   def list(self):\n",
    "       for car in Car.catalogue:\n",
    "         print(f\"{car.brand} {car.model} {car.year}\")\n",
    "   def count(self):\n",
    "       return len (Car.catalogue)"
   ]
  },
  {
   "cell_type": "code",
   "execution_count": 99,
   "id": "1a78bcbd",
   "metadata": {},
   "outputs": [
    {
     "name": "stdout",
     "output_type": "stream",
     "text": [
      "the desc\n",
      "the car model: toyota  the brand: corolla the year: 2023\n",
      "the car model: toyota  the brand: land cruser the year: 2023\n"
     ]
    },
    {
     "data": {
      "text/plain": [
       "0"
      ]
     },
     "execution_count": 99,
     "metadata": {},
     "output_type": "execute_result"
    }
   ],
   "source": [
    "vehicles = Car()\n",
    "vehicles.get_description(\"toyota\", \"corolla\" , 2023)\n",
    "vehicles.get_description(\"toyota\", \"land cruser\" , 2023)\n",
    "\n",
    "vehicles.list()\n",
    "vehicles.count()"
   ]
  },
  {
   "cell_type": "code",
   "execution_count": 100,
   "id": "95db73e0",
   "metadata": {},
   "outputs": [
    {
     "name": "stdout",
     "output_type": "stream",
     "text": [
      "the animals name: dog being of mammal family\n"
     ]
    }
   ],
   "source": [
    "class Animal:\n",
    "    def __init__(self, name, species):\n",
    "        self.name = name\n",
    "        self.species = species\n",
    "        print(f\"the animals name: {name} being of {species} family\")\n",
    "    def make_sound(self):\n",
    "        print(f\"{self.name} baks\")\n",
    "        \n",
    "        \n",
    "anim = Animal(\"dog\", \"mammal\")\n"
   ]
  },
  {
   "cell_type": "code",
   "execution_count": 106,
   "id": "0e86ba76",
   "metadata": {},
   "outputs": [],
   "source": [
    "class Dog(Animal):\n",
    "    def __init__(self, name, breed):\n",
    "        super().__init__(name, species=\"Dog\")\n",
    "        self.breed = breed\n",
    "\n",
    "    def make_sound(self):\n",
    "        print(f\" {self. name} Woof!\")"
   ]
  },
  {
   "cell_type": "code",
   "execution_count": 107,
   "id": "5992b6b8",
   "metadata": {},
   "outputs": [
    {
     "name": "stdout",
     "output_type": "stream",
     "text": [
      "the animals name: dog being of mammal family\n",
      "dog baks\n"
     ]
    }
   ],
   "source": [
    "anim = Animal(\"dog\", \"mammal\")\n",
    "anim.make_sound()\n"
   ]
  },
  {
   "cell_type": "code",
   "execution_count": 10,
   "id": "2e859afd",
   "metadata": {},
   "outputs": [],
   "source": [
    "class Inventory:\n",
    "    def __init__(self):\n",
    "        self.items ={}\n",
    "    def add(self,name,qty):\n",
    "        if name in self.items:\n",
    "            self.items[name] += qty\n",
    "        else:\n",
    "            self.items[name] =qty\n",
    "    def remove(self,name):\n",
    "        if name in self.items:\n",
    "            return  self.items[name]\n",
    "    def desc(self):\n",
    "       print (len(self.items)) "
   ]
  },
  {
   "cell_type": "code",
   "execution_count": 35,
   "id": "89a9fe2f",
   "metadata": {},
   "outputs": [],
   "source": [
    "class Recipe:\n",
    "    def __init__(self, name, created_date):\n",
    "        self.name = name\n",
    "        self.food = {}\n",
    "        self.ingredients = {}  # Dictionary to store ingredient: quantity\n",
    "\n",
    "        self.created_date = created_date \n",
    "        self.food[name] =created_date\n",
    "        print(f\"enter the food: {name} and the date {created_date}\")# Tuple (day, month, year)\n",
    "\n",
    "    def add_ingredient(self, name, qty):\n",
    "        self.ingredients[name] = qty\n",
    "        \n",
    "        print(f\"enter name of the food: {name} quantity: {qty}\")# Tuple (day, month, year)\n",
    "        \n",
    "    def total_ingredients(self):\n",
    "        return len(self.ingredients)"
   ]
  },
  {
   "cell_type": "code",
   "execution_count": null,
   "id": "03a0d72d",
   "metadata": {},
   "outputs": [
    {
     "name": "stdout",
     "output_type": "stream",
     "text": [
      "enter the food: Pancakes and the date (9, 6, 2025)\n",
      "enter name of the food: water quantity: 2\n",
      "enter name of the food: Flour quantity: 2\n",
      "enter name of the food: Milk quantity: 1\n",
      "enter name of the food: Eggs quantity: 3\n",
      "enter the food: Omelette and the date (9, 6, 2025)\n",
      "enter name of the food: Eggs quantity: 2\n",
      "enter name of the food: Tomatoes quantity: 1\n",
      "enter name of the food: Onions quantity: 1\n"
     ]
    },
    {
     "data": {
      "text/plain": [
       "3"
      ]
     },
     "execution_count": 36,
     "metadata": {},
     "output_type": "execute_result"
    }
   ],
   "source": [
    "r1 = Recipe(\"Pancakes\", (9, 6, 2025)) \n",
    "r1.add_ingredient(\"water\", 2)\n",
    "r1.add_ingredient(\"Flour\", 2)\n",
    "r1.add_ingredient(\"Milk\", 1)\n",
    "r1.add_ingredient(\"Eggs\", 3)\n",
    "\n",
    "\n",
    "r2 = Recipe(\"Omelette\", (9, 6, 2025))\n",
    "r2.add_ingredient(\"Eggs\", 2)\n",
    "r2.add_ingredient(\"Tomatoes\", 1)\n",
    "r2.add_ingredient(\"Onions\", 1)\n",
    "\n",
    "print(\"Total ingredients in Pancakes:\", r1.total_ingredients())  \n",
    "print(\"Total ingredients in Omelette:\", r2.total_ingredients())  \n"
   ]
  },
  {
   "cell_type": "code",
   "execution_count": 1,
   "id": "c028adc9",
   "metadata": {},
   "outputs": [],
   "source": [
    "class Cookbook:\n",
    "    def __init__(self):\n",
    "        self.recipes = []\n",
    "        self.recipe_names = set()  # Set of unique recipe names\n",
    "\n",
    "    def add_recipe(self, recipe):\n",
    "        self.recipes.append(recipe)\n",
    "        self.recipe_names.add(recipe.name)\n",
    "\n",
    "    def list_all_ingredients(self):\n",
    "        all_ingredients = {}\n",
    "        for recipe in self.recipes:\n",
    "            for ingredient, qty in recipe.ingredients.items():\n",
    "                if ingredient in all_ingredients:\n",
    "                    all_ingredients[ingredient] += qty\n",
    "                else:\n",
    "                    all_ingredients[ingredient] = qty\n",
    "        return all_ingredients"
   ]
  },
  {
   "cell_type": "code",
   "execution_count": null,
   "id": "1734189c",
   "metadata": {},
   "outputs": [
    {
     "name": "stdout",
     "output_type": "stream",
     "text": [
      "Total ingredients in Pancakes: 4\n",
      "Total ingredients in Omelette: 3\n",
      "All ingredients across recipes: {'water': 2, 'Flour': 2, 'Milk': 1, 'Eggs': 5, 'Tomatoes': 1, 'Onions': 1}\n"
     ]
    }
   ],
   "source": [
    "\n",
    "# Add to cookbook\n",
    "book = Cookbook()\n",
    "book.add_recipe(r1)\n",
    "book.add_recipe(r2)\n",
    "\n",
    "\n",
    "\n",
    "print(\"All ingredients across recipes:\", book.list_all_ingredients())"
   ]
  },
  {
   "cell_type": "code",
   "execution_count": 53,
   "id": "4afa0548",
   "metadata": {},
   "outputs": [
    {
     "name": "stdout",
     "output_type": "stream",
     "text": [
      "enter the bank account1000\n",
      "you have deposited is 2000\n",
      "you have deposited is 2000\n",
      "you have deposited is 2000\n",
      "you have deposited is 2000\n",
      "you have withdrawn 1500\n",
      "you have withdrawn 1500\n",
      "the account balance: 6000\n"
     ]
    }
   ],
   "source": [
    "class Account:\n",
    "   def __init__(self, amount=0):\n",
    "      self.amount = amount\n",
    "      print(f\"enter the bank account{amount}\")\n",
    "      \n",
    "   def deposit(self, depo):\n",
    "      if depo > 0:\n",
    "         self.amount +=depo\n",
    "         print(f\"you have deposited is {depo}\")\n",
    "      else:\n",
    "         print(f\"invalid deposit check on {depo}\")\n",
    "      \n",
    "   def withdrawal(self, withdraw):\n",
    "      self.withdraw = withdraw\n",
    "      if self.amount > withdraw:\n",
    "         self.amount -= withdraw\n",
    "         print(f\"you have withdrawn {withdraw}\")\n",
    "      else:\n",
    "         print(f\"insufficient account balance :{self.amount} for the withdrawal {withdraw}\")\n",
    "         \n",
    "   def get_balance(self):\n",
    "      print(f\"the account balance: {self.amount}\")\n",
    "      \n",
    "      \n",
    "      \n",
    "bank = Account(1000)   \n",
    "for _ in range(4):\n",
    "   bank.deposit(2000)\n",
    "for _ in range(2):\n",
    "   bank.withdrawal(1500)\n",
    "bank.get_balance()"
   ]
  },
  {
   "cell_type": "code",
   "execution_count": null,
   "id": "6f346244",
   "metadata": {},
   "outputs": [],
   "source": []
  },
  {
   "cell_type": "code",
   "execution_count": 66,
   "id": "2c8bf076",
   "metadata": {},
   "outputs": [],
   "source": [
    "class Inventory:\n",
    "\n",
    "   def __init__(self):\n",
    "      self.item = {}\n",
    "      print(\"the inventory data\")\n",
    "      \n",
    "   def add_item(self, name, qty):\n",
    "      self.name = name\n",
    "      self.qty = qty\n",
    "      \n",
    "      if name in self.item:\n",
    "         self.item[name] += qty\n",
    "         print(f\"enter the inventory item: {self.name} its quantity is:{self.qty}\")\n",
    "      else:\n",
    "         self.item[name] =qty\n",
    "         print(\"stayed the same\")\n",
    "         \n",
    "   def remove_item(self, name):\n",
    "      if name in self.item:\n",
    "         del self.item[name]\n",
    "         print(f\"you have deleted {self.item[name]}\")\n",
    "      else:\n",
    "         print(f\"this item: {self.name} is not in the inventory\")\n",
    "         \n",
    "   def get_total_items(self):\n",
    "      for name,qty in self.item.items():\n",
    "         print(f\"the item is {name}: {qty}\")\n"
   ]
  },
  {
   "cell_type": "code",
   "execution_count": 67,
   "id": "3fc375e0",
   "metadata": {},
   "outputs": [
    {
     "name": "stdout",
     "output_type": "stream",
     "text": [
      "the inventory data\n",
      "stayed the same\n",
      "enter the inventory item: pen its quantity is:10\n",
      "stayed the same\n",
      "enter the inventory item: pen its quantity is:2\n",
      "the item is pen: 13\n",
      "the item is book: 5\n"
     ]
    }
   ],
   "source": [
    "         \n",
    "bank = Inventory()\n",
    "bank.add_item(\"pen\", 1)\n",
    "bank.add_item(\"pen\", 10)\n",
    "bank.add_item(\"book\", 5)\n",
    "bank.add_item(\"pen\", 2)\n",
    "bank.get_total_items()"
   ]
  }
 ],
 "metadata": {
  "kernelspec": {
   "display_name": "Python 3",
   "language": "python",
   "name": "python3"
  },
  "language_info": {
   "codemirror_mode": {
    "name": "ipython",
    "version": 3
   },
   "file_extension": ".py",
   "mimetype": "text/x-python",
   "name": "python",
   "nbconvert_exporter": "python",
   "pygments_lexer": "ipython3",
   "version": "3.13.3"
  }
 },
 "nbformat": 4,
 "nbformat_minor": 5
}
