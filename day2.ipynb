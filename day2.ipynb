{
 "cells": [
  {
   "cell_type": "markdown",
   "id": "83fcc653",
   "metadata": {},
   "source": [
    "while  loops and if sttemnts 5 for each\n",
    "break and continue "
   ]
  },
  {
   "cell_type": "code",
   "execution_count": null,
   "id": "ab0cb34d",
   "metadata": {},
   "outputs": [],
   "source": []
  },
  {
   "cell_type": "code",
   "execution_count": 11,
   "id": "2b3b8ff9",
   "metadata": {},
   "outputs": [
    {
     "name": "stdout",
     "output_type": "stream",
     "text": [
      "o\n",
      "o\n",
      "i\n",
      "h\n",
      "c\n",
      "s\n"
     ]
    }
   ],
   "source": [
    "animals = 'homopithecus'\n",
    "n =0\n",
    "while n < len(animals):\n",
    "    n +=1\n",
    "    print(animals [n])\n",
    "    n +=1"
   ]
  },
  {
   "cell_type": "code",
   "execution_count": 4,
   "id": "e7cdd7ef",
   "metadata": {},
   "outputs": [
    {
     "name": "stdout",
     "output_type": "stream",
     "text": [
      "5\n"
     ]
    }
   ],
   "source": [
    "class theclass:\n",
    "    x=5\n",
    "p = theclass\n",
    "print(p.x)"
   ]
  }
 ],
 "metadata": {
  "kernelspec": {
   "display_name": "Python 3",
   "language": "python",
   "name": "python3"
  },
  "language_info": {
   "codemirror_mode": {
    "name": "ipython",
    "version": 3
   },
   "file_extension": ".py",
   "mimetype": "text/x-python",
   "name": "python",
   "nbconvert_exporter": "python",
   "pygments_lexer": "ipython3",
   "version": "3.13.3"
  }
 },
 "nbformat": 4,
 "nbformat_minor": 5
}
